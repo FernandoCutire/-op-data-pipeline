{
 "cells": [
  {
   "cell_type": "markdown",
   "source": [
    "# Platzi Data\n",
    "Proyecto completo de ingeniería de Datos en Platzi\n",
    "\n",
    "**Autor: Fernando Cutire**"
   ],
   "metadata": {
    "collapsed": false
   }
  },
  {
   "cell_type": "code",
   "execution_count": 30,
   "metadata": {
    "collapsed": true
   },
   "outputs": [],
   "source": [
    "# importing libraries\n",
    "import requests\n",
    "import bs4\n"
   ]
  },
  {
   "cell_type": "code",
   "execution_count": 7,
   "outputs": [
    {
     "name": "stdout",
     "output_type": "stream",
     "text": [
      "{'Date': 'Fri, 05 Mar 2021 13:23:12 GMT', 'Content-Type': 'text/html', 'Transfer-Encoding': 'chunked', 'Connection': 'keep-alive', 'Set-Cookie': '__cfduid=d8ef73eb30d4bc68955700b85ab3996a11614950591; expires=Sun, 04-Apr-21 13:23:11 GMT; path=/; domain=.platzi.com; HttpOnly; SameSite=Lax; Secure, __cf_bm=6726767cf12204efa756974f271a08b56a967c80-1614950592-1800-AR349xA8zwGxcfAY9cd1fazBZ469/y9UlnvP/37IXgCqPexzwwyOUsLzqjhNjS+DzQ==; path=/; expires=Fri, 05-Mar-21 13:53:12 GMT; domain=.platzi.com; HttpOnly; Secure; SameSite=None, __cf_bm=db4c4f434161df9c1841d42b251f71503d1bef11-1614950592-1800-AR/IFSx+NcT4w0gaGj2NJ2xrgzJkhgIgYmh2uE5t08UGNP5zlaQkz7Yx+iCOKGMV99gbwC6E2hC8GDRY0ttpwi3OgCCQRm6xC+qZeqPQtdNN; path=/; expires=Fri, 05-Mar-21 13:53:12 GMT; domain=.platzi.com; HttpOnly; Secure; SameSite=None', 'CF-Ray': '62b3a84fd92a041c-MIA', 'Access-Control-Allow-Origin': '*', 'Age': '7149', 'Cache-Control': 'no-store', 'Expires': 'Sat, 05 Mar 2022 13:23:12 GMT', 'Strict-Transport-Security': 'max-age=2592000; includeSubDomains; preload', 'Vary': 'Accept-Encoding', 'CF-Cache-Status': 'HIT', 'Access-Control-Allow-Credentials': 'true', 'Access-Control-Allow-Headers': 'X-Requested-With,content-type,X-CSRFToken', 'Access-Control-Allow-Methods': 'GET, POST', 'cf-request-id': '08a42785e50000041c738b0000000001', 'Expect-CT': 'max-age=604800, report-uri=\"https://report-uri.cloudflare.com/cdn-cgi/beacon/expect-ct\"', 'X-Content-Type-Options': 'nosniff', 'X-DNS-Prefetch-Control': 'off', 'X-Download-Options': 'noopen', 'X-Frame-Options': 'SAMEORIGIN', 'X-Permitted-Cross-Domain-Policies': 'none', 'X-XSS-Protection': '1; mode=block', 'Server': 'cloudflare', 'Content-Encoding': 'gzip'}\n"
     ]
    }
   ],
   "source": [
    "# Definiendo la página\n",
    "response = requests.get('https://platzi.com')\n",
    "print(response.headers)"
   ],
   "metadata": {
    "collapsed": false,
    "pycharm": {
     "name": "#%%\n"
    }
   }
  },
  {
   "cell_type": "code",
   "execution_count": 29,
   "outputs": [
    {
     "name": "stdout",
     "output_type": "stream",
     "text": [
      "Aprende desde cero a crear el futuro web con nuestros Cursos Online Profesionales de TecnologÃ­a. ðÂ¡Cursos de Desarrollo, DiseÃ±o, Marketing y Negocios!\n",
      "https://platzi.com/cursos/ingles-compras/\n",
      "https://platzi.com/cursos/programacion-golang/\n",
      "https://platzi.com/cursos/webpack/\n",
      "https://platzi.com/cursos/marketing-creativo/\n",
      "https://platzi.com/cursos/automatizacion-marketing/\n"
     ]
    }
   ],
   "source": [
    "# Empleando beautfoul soup\n",
    "soup = bs4.BeautifulSoup(response.text, 'html.parser',)\n",
    "print(soup.select('meta[name=description]')[0]['content'])\n",
    "\n",
    "# Seleccionando los últimos lanzamientos\n",
    "courses_link = soup.select('.RecentLaunches-link')\n",
    "# Seleccionando los enlaces\n",
    "courses = [course['href'] for course in courses_link]\n",
    "# Imprimiendo los cursos\n",
    "for i in courses:\n",
    "    print(i)"
   ],
   "metadata": {
    "collapsed": false,
    "pycharm": {
     "name": "#%%\n"
    }
   }
  },
  {
   "cell_type": "code",
   "execution_count": null,
   "outputs": [],
   "source": [],
   "metadata": {
    "collapsed": false,
    "pycharm": {
     "name": "#%%\n"
    }
   }
  },
  {
   "cell_type": "code",
   "execution_count": null,
   "outputs": [],
   "source": [],
   "metadata": {
    "collapsed": false,
    "pycharm": {
     "name": "#%%\n"
    }
   }
  },
  {
   "cell_type": "code",
   "execution_count": null,
   "outputs": [],
   "source": [],
   "metadata": {
    "collapsed": false,
    "pycharm": {
     "name": "#%%\n"
    }
   }
  },
  {
   "cell_type": "code",
   "execution_count": null,
   "outputs": [],
   "source": [],
   "metadata": {
    "collapsed": false,
    "pycharm": {
     "name": "#%%\n"
    }
   }
  }
 ],
 "metadata": {
  "kernelspec": {
   "display_name": "Python 3",
   "language": "python",
   "name": "python3"
  },
  "language_info": {
   "codemirror_mode": {
    "name": "ipython",
    "version": 2
   },
   "file_extension": ".py",
   "mimetype": "text/x-python",
   "name": "python",
   "nbconvert_exporter": "python",
   "pygments_lexer": "ipython2",
   "version": "2.7.6"
  }
 },
 "nbformat": 4,
 "nbformat_minor": 0
}